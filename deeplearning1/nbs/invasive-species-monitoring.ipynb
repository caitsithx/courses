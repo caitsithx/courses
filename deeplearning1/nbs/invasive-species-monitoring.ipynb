{
 "cells": [
  {
   "cell_type": "markdown",
   "metadata": {},
   "source": [
    "# Imports and Constants"
   ]
  },
  {
   "cell_type": "code",
   "execution_count": null,
   "metadata": {
    "collapsed": false,
    "scrolled": true
   },
   "outputs": [],
   "source": [
    "%cd /home/caitsithx/courses/deeplearning1/nbs\n",
    "\n",
    "%matplotlib inline\n",
    "import utils; reload(utils)\n",
    "from utils import *\n",
    "import glob\n",
    "import numpy as np\n",
    "import os\n",
    "from shutil import copyfile\n",
    "from PIL import Image\n",
    "from IPython.display import FileLink\n",
    "import scipy\n",
    "from vgg16 import Vgg16"
   ]
  },
  {
   "cell_type": "code",
   "execution_count": null,
   "metadata": {
    "collapsed": false
   },
   "outputs": [],
   "source": [
    "path = \"/home/caitsithx/courses/deeplearning1/nbs/data/invasive-species-monitoring\"\n",
    "trn_path = path + \"/train\"\n",
    "vld_path = path + \"/valid\"\n",
    "result_path=path + \"/result/\"\n",
    "nb_iter = 100"
   ]
  },
  {
   "cell_type": "markdown",
   "metadata": {},
   "source": [
    "# Todos"
   ]
  },
  {
   "cell_type": "markdown",
   "metadata": {},
   "source": [
    "1. create validation set and sample\n",
    "2. move to separate dirs for each set\n",
    "3. finetune and train\n",
    "4. submit"
   ]
  },
  {
   "cell_type": "markdown",
   "metadata": {},
   "source": [
    "# Data Preparation"
   ]
  },
  {
   "cell_type": "code",
   "execution_count": null,
   "metadata": {
    "collapsed": false
   },
   "outputs": [],
   "source": [
    "%cd /home/caitsithx/courses/deeplearning1/nbs/data/invasive-species-monitoring/train\n",
    "%mkdir /home/caitsithx/courses/deeplearning1/nbs/data/invasive-species-monitoring/train/0\n",
    "%mkdir /home/caitsithx/courses/deeplearning1/nbs/data/invasive-species-monitoring/train/1\n",
    "\n",
    "labels = np.loadtxt(path + \"/train_labels.csv\",delimiter=',')\n",
    "labels[:5]\n",
    "\n",
    "for label in labels: \n",
    "    if label[1] == 0:\n",
    "        copyfile(trn_path+\"/\"+str(int(label[0]))+\".jpg\", trn_path+\"/0/\"+str(int(label[0]))+\".jpg\")\n",
    "    elif label[1] == 1:\n",
    "        copyfile(trn_path+\"/\"+str(int(label[0]))+\".jpg\", trn_path+\"/1/\"+str(int(label[0]))+\".jpg\")"
   ]
  },
  {
   "cell_type": "code",
   "execution_count": null,
   "metadata": {
    "collapsed": false
   },
   "outputs": [],
   "source": [
    "%mkdir /home/caitsithx/courses/deeplearning1/nbs/data/invasive-species-monitoring/valid\n",
    "%mkdir /home/caitsithx/courses/deeplearning1/nbs/data/invasive-species-monitoring/valid/1\n",
    "%mkdir /home/caitsithx/courses/deeplearning1/nbs/data/invasive-species-monitoring/valid/0\n",
    "\n",
    "%cd /home/caitsithx/courses/deeplearning1/nbs/data/invasive-species-monitoring/train/1\n",
    "g = glob.glob(\"*.jpg\")\n",
    "shuf = np.random.permutation(g)\n",
    "for i in range(200): os.rename(shuf[i], \"../../valid/1/\" + shuf[i])\n",
    "    \n",
    "%cd /home/caitsithx/courses/deeplearning1/nbs/data/invasive-species-monitoring/train/0\n",
    "g = glob.glob(\"*.jpg\")\n",
    "shuf = np.random.permutation(g)\n",
    "for i in range(200): os.rename(shuf[i], \"../../valid/0/\" + shuf[i])"
   ]
  },
  {
   "cell_type": "code",
   "execution_count": null,
   "metadata": {
    "collapsed": false
   },
   "outputs": [],
   "source": [
    "%mkdir /home/caitsithx/courses/deeplearning1/nbs/data/invasive-species-monitoring/sample\n",
    "%mkdir /home/caitsithx/courses/deeplearning1/nbs/data/invasive-species-monitoring/sample/test\n",
    "%mkdir /home/caitsithx/courses/deeplearning1/nbs/data/invasive-species-monitoring/sample/test/unknown\n",
    "%cd /home/caitsithx/courses/deeplearning1/nbs/data/invasive-species-monitoring/test\n",
    "\n",
    "g = glob.glob(\"*.jpg\")\n",
    "shuf = np.random.permutation(g)\n",
    "for i in range(50): copyfile(shuf[i], \"../sample/test/unknown/\" + shuf[i])"
   ]
  },
  {
   "cell_type": "markdown",
   "metadata": {},
   "source": [
    "# Fine-tuning and Training"
   ]
  },
  {
   "cell_type": "code",
   "execution_count": null,
   "metadata": {
    "collapsed": false
   },
   "outputs": [],
   "source": [
    "vgg16 = Vgg16()"
   ]
  },
  {
   "cell_type": "code",
   "execution_count": null,
   "metadata": {
    "collapsed": false
   },
   "outputs": [],
   "source": [
    "trn_batch = vgg16.get_batches(path+\"/train\", batch_size=100)\n",
    "vld_batch = vgg16.get_batches(path+\"/valid\", batch_size=100)"
   ]
  },
  {
   "cell_type": "code",
   "execution_count": null,
   "metadata": {
    "collapsed": true
   },
   "outputs": [],
   "source": [
    "vgg16.finetune(trn_batch)"
   ]
  },
  {
   "cell_type": "code",
   "execution_count": null,
   "metadata": {
    "collapsed": true
   },
   "outputs": [],
   "source": [
    "vgg16.model.optimizer.lr = 0.0005"
   ]
  },
  {
   "cell_type": "code",
   "execution_count": null,
   "metadata": {
    "collapsed": false
   },
   "outputs": [],
   "source": [
    "weight_file_name = None\n",
    "for epoch in range(nb_iter):\n",
    "    print 'iteration %d' % epoch\n",
    "    vgg16.fit(trn_batch, vld_batch, nb_epoch=1)\n",
    "    weight_file_name = 'ft%d.h5' % epoch\n",
    "    vgg16.model.save_weights(result_path+weight_file_name)"
   ]
  },
  {
   "cell_type": "markdown",
   "metadata": {},
   "source": [
    "# Test"
   ]
  },
  {
   "cell_type": "code",
   "execution_count": null,
   "metadata": {
    "collapsed": true
   },
   "outputs": [],
   "source": [
    "weight_file_name = 'ft%d.h5' % (nb_iter - 1)\n",
    "vgg16.model.load_weights(result_path+weight_file_name)"
   ]
  },
  {
   "cell_type": "code",
   "execution_count": null,
   "metadata": {
    "collapsed": false
   },
   "outputs": [],
   "source": [
    "batches, preds = vgg16.test(path+\"/test\", batch_size=50)"
   ]
  },
  {
   "cell_type": "code",
   "execution_count": null,
   "metadata": {
    "collapsed": false
   },
   "outputs": [],
   "source": [
    "print preds[:5]\n",
    "print batches.filenames[:5]"
   ]
  },
  {
   "cell_type": "code",
   "execution_count": null,
   "metadata": {
    "collapsed": false
   },
   "outputs": [],
   "source": [
    "Image.open(path+\"/test/\" + batches.filenames[0])"
   ]
  },
  {
   "cell_type": "code",
   "execution_count": null,
   "metadata": {
    "collapsed": false
   },
   "outputs": [],
   "source": [
    "save_array(result_path + 'test_preds.dat', preds)\n",
    "save_array(result_path + 'filenames.dat', batches.filenames)"
   ]
  },
  {
   "cell_type": "markdown",
   "metadata": {},
   "source": [
    "# submission"
   ]
  },
  {
   "cell_type": "code",
   "execution_count": null,
   "metadata": {
    "collapsed": false
   },
   "outputs": [],
   "source": [
    "preds = load_array(result_path + 'test_preds.dat')\n",
    "fileNames = load_array(result_path + 'filenames.dat')"
   ]
  },
  {
   "cell_type": "code",
   "execution_count": null,
   "metadata": {
    "collapsed": false
   },
   "outputs": [],
   "source": [
    "preds[:5]"
   ]
  },
  {
   "cell_type": "code",
   "execution_count": null,
   "metadata": {
    "collapsed": true
   },
   "outputs": [],
   "source": [
    "def covert(val):\n",
    "    if(val > 0.5):\n",
    "        return 1;\n",
    "    else:\n",
    "        return 0;\n",
    "    "
   ]
  },
  {
   "cell_type": "code",
   "execution_count": null,
   "metadata": {
    "collapsed": false
   },
   "outputs": [],
   "source": [
    "isInv = [covert(pred) for pred in preds[:,1]]"
   ]
  },
  {
   "cell_type": "code",
   "execution_count": null,
   "metadata": {
    "collapsed": false
   },
   "outputs": [],
   "source": [
    "isInv[:5]"
   ]
  },
  {
   "cell_type": "code",
   "execution_count": null,
   "metadata": {
    "collapsed": false
   },
   "outputs": [],
   "source": [
    "ids = [int(fn[8:-4]) for fn in fileNames]"
   ]
  },
  {
   "cell_type": "code",
   "execution_count": null,
   "metadata": {
    "collapsed": false
   },
   "outputs": [],
   "source": [
    "ids[:5]"
   ]
  },
  {
   "cell_type": "code",
   "execution_count": null,
   "metadata": {
    "collapsed": true
   },
   "outputs": [],
   "source": [
    "subm = np.stack([ids,isInv], axis=1)"
   ]
  },
  {
   "cell_type": "code",
   "execution_count": null,
   "metadata": {
    "collapsed": false
   },
   "outputs": [],
   "source": [
    "subm[:5]"
   ]
  },
  {
   "cell_type": "code",
   "execution_count": null,
   "metadata": {
    "collapsed": false
   },
   "outputs": [],
   "source": [
    "np.savetxt(result_path + \"inva_submit.csv\", subm, fmt='%d,%.5f', header='name,invasive',comments='')"
   ]
  },
  {
   "cell_type": "code",
   "execution_count": null,
   "metadata": {
    "collapsed": false
   },
   "outputs": [],
   "source": [
    "%cd /home/caitsithx/courses/deeplearning1/nbs\n",
    "FileLink(\"data/invasive-species-monitoring/result/inva_submit.csv\")"
   ]
  },
  {
   "cell_type": "code",
   "execution_count": null,
   "metadata": {
    "collapsed": true
   },
   "outputs": [],
   "source": []
  }
 ],
 "metadata": {
  "kernelspec": {
   "display_name": "Python 2",
   "language": "python",
   "name": "python2"
  },
  "language_info": {
   "codemirror_mode": {
    "name": "ipython",
    "version": 2
   },
   "file_extension": ".py",
   "mimetype": "text/x-python",
   "name": "python",
   "nbconvert_exporter": "python",
   "pygments_lexer": "ipython2",
   "version": "2.7.13"
  }
 },
 "nbformat": 4,
 "nbformat_minor": 2
}
